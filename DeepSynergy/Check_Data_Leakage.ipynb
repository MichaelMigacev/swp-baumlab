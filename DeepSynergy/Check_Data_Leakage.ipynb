{
 "cells": [
  {
   "cell_type": "markdown",
   "id": "387207b9",
   "metadata": {},
   "source": [
    "# CHECK_ DATA_LEAKAGE IN DEEP SYNERGY"
   ]
  },
  {
   "cell_type": "markdown",
   "id": "b0ecfbd4",
   "metadata": {},
   "source": [
    "### Assignment of Week 2: \n",
    "##### Author: Zhaoguo Wei  \n",
    "###### Group 3\n",
    "\n",
    "I tried to find out whether any data leakage occurred during the cross-validation procedures (leave-drug-combination-out, leave-drug-out, and leave-cell-line-out)."
   ]
  },
  {
   "cell_type": "markdown",
   "id": "05532f9d",
   "metadata": {},
   "source": [
    " "
   ]
  },
  {
   "cell_type": "markdown",
   "id": "4821125f",
   "metadata": {},
   "source": [
    "**task details:**\n",
    "\n",
    "Check for data leakage using the provided files:\n",
    "\n",
    "- smiles.csv and labels.csv (on GitHub they’ve only uploaded labels.csv for one CV scheme → leave-drug-combination-out)\n",
    "\n",
    "- Optional: generate new label files to cover the other two CV schemes → leave-drug-out and leave-cell-line-out\n",
    "\n",
    "Write a script to perform the checks in step 1.\n",
    "\n",
    "Verify (or “validate”) the results.\n"
   ]
  },
  {
   "cell_type": "markdown",
   "id": "e630a7cf",
   "metadata": {},
   "source": [
    " "
   ]
  },
  {
   "cell_type": "markdown",
   "id": "e8086e3a",
   "metadata": {},
   "source": [
    "### Why there is no other labels file?\n",
    "\n",
    "**result of my research:**\n",
    "\n",
    "The authors of DeepSynergy only released the one labels.csv because it encodes the single cross-validation scheme they treated as their primary evaluation: leave-drug-combination-out. "
   ]
  },
  {
   "cell_type": "markdown",
   "id": "0226e9b2",
   "metadata": {},
   "source": [
    "## Script: Code for all three CV methods"
   ]
  },
  {
   "cell_type": "markdown",
   "id": "f4643d0a",
   "metadata": {},
   "source": [
    " "
   ]
  },
  {
   "cell_type": "code",
   "execution_count": 5,
   "id": "f6615b64",
   "metadata": {},
   "outputs": [
    {
     "name": "stdout",
     "output_type": "stream",
     "text": [
      "=== CV Data Leakage Check for labels.csv ===\n",
      "Leave-combination-out : ✔ No leakage\n"
     ]
    }
   ],
   "source": [
    "import pandas as pd\n",
    "\n",
    "def main():\n",
    "    # 1. Load labels.csv and normalize names\n",
    "    labels = pd.read_csv(\"/Volumes/Lenovo/projektseminar/labels.csv\", dtype=str)\n",
    "    for col in [\"drug_a_name\", \"drug_b_name\", \"cell_line\"]:\n",
    "        labels[col] = labels[col].str.strip().str.upper()\n",
    "    labels[\"fold\"] = labels[\"fold\"].astype(int)\n",
    "\n",
    "    # 2. Build a unique key for each drugA+drugB+cell combination\n",
    "    def combo_key(row):\n",
    "        drugs = sorted([row[\"drug_a_name\"], row[\"drug_b_name\"]])\n",
    "        return f\"{drugs[0]}__{drugs[1]}__{row['cell_line']}\"\n",
    "    labels[\"combo_key\"] = labels.apply(combo_key, axis=1)\n",
    "\n",
    "    # 3. Split into train/test by fold==0\n",
    "    mask_test  = labels[\"fold\"] == 0\n",
    "    mask_train = ~mask_test\n",
    "\n",
    "    # 4. Check Leave-combination-out: no combo overlap\n",
    "    train_combos = set(labels.loc[mask_train, \"combo_key\"])\n",
    "    test_combos  = set(labels.loc[mask_test,  \"combo_key\"])\n",
    "    combo_leak   = not train_combos.isdisjoint(test_combos)\n",
    "\n",
    "    # 6. Print results\n",
    "    print(\"=== CV Data Leakage Check for labels.csv ===\")\n",
    "    print(f\"Leave-combination-out : {'⚠ Leakage' if combo_leak else '✔ No leakage'}\")\n",
    "\n",
    "    # 7. Summary\n",
    "    schemes = []\n",
    "    if not combo_leak:\n",
    "        schemes.append(\"Leave-combination-out\")\n",
    "    else:\n",
    "        print(\"→ Does NOT match any of the three strict CV schemes.\")\n",
    "\n",
    "if __name__ == \"__main__\":\n",
    "    main()\n"
   ]
  },
  {
   "cell_type": "markdown",
   "id": "4f0381b5",
   "metadata": {},
   "source": [
    " "
   ]
  },
  {
   "cell_type": "markdown",
   "id": "8c9b8c9f",
   "metadata": {},
   "source": [
    "Since only the combination criterion is satisfied (and both the drug- and cell-line criteria fail), my labels.csv fold assignment implements exactly the Leave-combination-out cross-validation and nothing else.\n",
    "(The DeepSynergy authors only provided a labels.csv for the leave-drug-combination-out scheme.)\n",
    "\n",
    "**→ In other words, there is no data leakage under the leave-drug-combination-out method.**"
   ]
  },
  {
   "cell_type": "markdown",
   "id": "49253b74",
   "metadata": {},
   "source": [
    "## Week 3:"
   ]
  },
  {
   "cell_type": "markdown",
   "id": "54d2d397",
   "metadata": {},
   "source": [
    "beacause I prepared the script: Check_Data_Leakage.py in the last week. \n",
    "\n",
    "So my next step is to generate **labels files** for other two cross-validationsmethods : **Leave Drug out and leave cell line out**."
   ]
  },
  {
   "cell_type": "markdown",
   "id": "13a2d52b",
   "metadata": {},
   "source": [
    "### Script：generate two labels files"
   ]
  },
  {
   "cell_type": "code",
   "execution_count": null,
   "id": "54e977e3",
   "metadata": {},
   "outputs": [],
   "source": [
    "# build_cv_labels.py\n",
    "\n",
    "#   labels_leave_drug_out.csv       -> Leave-Drug-Out (5折 CV)\n",
    "#   labels_leave_cell_line_out.csv  -> Leave-Cell-Line-Out (5折 CV)\n",
    "\n",
    "import pandas as pd\n",
    "\n",
    "\n",
    "def round_robin_mapping(items: list, n_splits: int = 5) -> dict:\n",
    "    \"\"\"\n",
    "    map ordered items with round-robin into 0..n_splits-1 fold。\n",
    "    returns {item: fold_id} injection\n",
    "    \"\"\"\n",
    "    mapping = {}\n",
    "    for idx, item in enumerate(sorted(items)):\n",
    "        mapping[item] = idx % n_splits\n",
    "    return mapping\n",
    "\n",
    "\n",
    "def build_leave_drug(labels: pd.DataFrame, n_splits: int = 5) -> pd.DataFrame:\n",
    "    \"\"\"\n",
    "    Leave-Drug-Out:\n",
    "    1. combine all (drug_a_name + drug_b_name），\n",
    "    2. make order with round robin into  0..n_splits-1 fold\n",
    "    3. pick the smaller one from drug_a_name and drug_b_name in the fold\n",
    "    \"\"\"\n",
    "    df = labels.copy()\n",
    "    # normalization\n",
    "    for col in ['drug_a_name', 'drug_b_name', 'cell_line']:\n",
    "        df[col] = df[col].str.strip().str.upper()\n",
    "\n",
    "    # all uniqe durgs \n",
    "    all_drugs = set(df['drug_a_name']) | set(df['drug_b_name'])\n",
    "    drug2fold = round_robin_mapping(list(all_drugs), n_splits)\n",
    "\n",
    "    # get into folds\n",
    "    df['fold'] = df.apply(\n",
    "        lambda r: drug2fold[min(r['drug_a_name'], r['drug_b_name'])],\n",
    "        axis=1\n",
    "    )\n",
    "    return df\n",
    "\n",
    "\n",
    "def build_leave_cell(labels: pd.DataFrame, n_splits: int = 5) -> pd.DataFrame:\n",
    "    \"\"\"\n",
    "    Leave-Cell-Line-Out -> split into 5 folds：\n",
    "    1. get unique cell_line，\n",
    "    2. make order with round robin into 0..n_splits-1 fold，\n",
    "    3. map cell_line to corresbonding Fold\n",
    "    \"\"\"\n",
    "    df = labels.copy()\n",
    "    # normalization\n",
    "    df['cell_line'] = df['cell_line'].str.strip().str.upper()\n",
    "\n",
    "    all_cells = sorted(df['cell_line'].unique())\n",
    "    cell2fold = round_robin_mapping(all_cells, n_splits)\n",
    "\n",
    "    df['fold'] = df['cell_line'].map(cell2fold)\n",
    "    return df\n",
    "\n",
    "\n",
    "def main():\n",
    "    # 1. read labels.csv\n",
    "    df = pd.read_csv('labels.csv', dtype=str)\n",
    "\n",
    "    # 2. generate Leave-Drug-Out \n",
    "    df_drug = build_leave_drug_5fold(df)\n",
    "    df_drug.to_csv('labels_leave_drug_out.csv', index=False)\n",
    "    print('successful generated: labels_leave_drug_out.csv (Leave-Drug-Out)')\n",
    "\n",
    "    # 3. generat Leave-Cell-Line-Out\n",
    "    df_cell = build_leave_cell_5fold(df)\n",
    "    df_cell.to_csv('labels_leave_cell_line_out.csv', index=False)\n",
    "    print('successful generated: labels_leave_cell_line_out.csv (Leave-Cell-Line-Out)')\n",
    "\n",
    "if __name__ == '__main__':\n",
    "    main()"
   ]
  },
  {
   "cell_type": "markdown",
   "id": "86676cb0",
   "metadata": {},
   "source": [
    "then, there will be two labelsfile, which can help us to proof the data leakage in the rest of CV methods."
   ]
  },
  {
   "cell_type": "markdown",
   "id": "6b363964",
   "metadata": {},
   "source": [
    "### Script: modified check_data_leakage"
   ]
  },
  {
   "cell_type": "code",
   "execution_count": 9,
   "id": "fe15f531",
   "metadata": {},
   "outputs": [
    {
     "name": "stdout",
     "output_type": "stream",
     "text": [
      "/Volumes/Lenovo/projektseminar/labels.csv (Leave-combination-out): ✔ no leakage\n",
      "/Volumes/Lenovo/projektseminar/labels_leave_drug_out.csv (Leave-drug-out): ⚠ leakage\n",
      "/Volumes/Lenovo/projektseminar/labels_leave_cell_line_out.csv (Leave-cell-line-out): ✔ no leakage\n"
     ]
    }
   ],
   "source": [
    "import pandas as pd\n",
    "import os\n",
    "\n",
    "# labels.csv                      -> Leave-combination-out\n",
    "# labels_leave_drug_out_5fold.csv -> Leave-drug-out\n",
    "# labels_leave_cell_line_out_5fold.csv -> Leave-cell-line-out\n",
    "\n",
    "file_scheme_map = {\n",
    "    \"/Volumes/Lenovo/projektseminar/labels.csv\": \"combination\",\n",
    "    \"/Volumes/Lenovo/projektseminar/labels_leave_drug_out.csv\": \"drug\",\n",
    "    \"/Volumes/Lenovo/projektseminar/labels_leave_cell_line_out.csv\": \"cell\"\n",
    "}\n",
    "\n",
    "\n",
    "def has_leakage(df: pd.DataFrame, scheme: str) -> bool:\n",
    "    \"\"\"\n",
    "    scheme: 'combination' | 'drug' | 'cell'\n",
    "    return: True -> there is leakage，False -> no leakage。\n",
    "    \"\"\"\n",
    "    # normalization\n",
    "    for col in ['drug_a_name','drug_b_name','cell_line']:\n",
    "        df[col] = df[col].str.strip().str.upper()\n",
    "    df['fold'] = df['fold'].astype(int)\n",
    "\n",
    "    # check every fold，if any fold has overlap -> data leakage \n",
    "    for fold_id in sorted(df['fold'].unique()):\n",
    "        train = df[df['fold'] != fold_id]\n",
    "        test  = df[df['fold'] == fold_id]\n",
    "\n",
    "        if scheme == 'combination':\n",
    "            # Combo Key: DrugA__DrugB__CellLine\n",
    "            key_train = set(\n",
    "                train.apply(lambda r: '__'.join(\n",
    "                    sorted([r['drug_a_name'], r['drug_b_name']]) + [r['cell_line']]\n",
    "                ), axis=1)\n",
    "            )\n",
    "            key_test = set(\n",
    "                test.apply(lambda r: '__'.join(\n",
    "                    sorted([r['drug_a_name'], r['drug_b_name']]) + [r['cell_line']]\n",
    "                ), axis=1)\n",
    "            )\n",
    "            if not key_train.isdisjoint(key_test):\n",
    "                return True\n",
    "\n",
    "        elif scheme == 'drug':\n",
    "            # drug combination\n",
    "            drugs_train = set(train['drug_a_name']) | set(train['drug_b_name'])\n",
    "            drugs_test  = set(test['drug_a_name'])  | set(test['drug_b_name'])\n",
    "            if not drugs_train.isdisjoint(drugs_test):\n",
    "                return True\n",
    "\n",
    "        elif scheme == 'cell':\n",
    "            # cell line combination\n",
    "            cells_train = set(train['cell_line'])\n",
    "            cells_test  = set(test['cell_line'])\n",
    "            if not cells_train.isdisjoint(cells_test):\n",
    "                return True\n",
    "\n",
    "    return False  # if there is no data leakge in every fold\n",
    "\n",
    "\n",
    "def main():\n",
    "    for fname, scheme in file_scheme_map.items():\n",
    "        if not os.path.isfile(fname):\n",
    "            print(f\"[!] There is no file names: {fname}\")\n",
    "            continue\n",
    "        df = pd.read_csv(fname, dtype=str)\n",
    "        leak = has_leakage(df, scheme)\n",
    "        # output result \n",
    "        scheme_name = {\n",
    "            'combination': 'Leave-combination-out',\n",
    "            'drug':        'Leave-drug-out',\n",
    "            'cell':        'Leave-cell-line-out'\n",
    "        }[scheme]\n",
    "        status = '⚠ leakage' if leak else '✔ no leakage'\n",
    "        print(f\"{fname} ({scheme_name}): {status}\")\n",
    "\n",
    "if __name__ == '__main__':\n",
    "    main()"
   ]
  },
  {
   "cell_type": "markdown",
   "id": "9a574443",
   "metadata": {},
   "source": [
    "### Conclusion until now:\n",
    "\n",
    "In last week, I found out that there is no data leakage during the Leave-drug-Combination-Out and in this week, I would say that in Leave-cell-line-out has no data leakage either. \n",
    "\n",
    "In addition, there is alwayls problematic with the CV method: Leave-drug-out. \n",
    "\n",
    "In the original paper, they said: \n",
    "\n",
    "**“We used a stratified cross validation approach, where the test sets were selected to leave out drug combinations (see Fig. 3 second column). In addition, we performed leave-drug-out and leave-cell-line-out cross validations to assess model generalization to novel drugs and novel cell lines.”**\n",
    "\n",
    "But I can't really verify it with my codescript. \n",
    "\n",
    "**Result for this week:**\n",
    "\n",
    "\n",
    "(Leave-combination-out): ✔ no leakage\n",
    "\n",
    "(Leave-drug-out): ⚠ leakage\n",
    "\n",
    "(Leave-cell-line-out): ✔ no leakage"
   ]
  },
  {
   "cell_type": "code",
   "execution_count": null,
   "id": "8ab4d151",
   "metadata": {},
   "outputs": [],
   "source": []
  },
  {
   "cell_type": "code",
   "execution_count": null,
   "id": "6835a2dc",
   "metadata": {},
   "outputs": [],
   "source": []
  }
 ],
 "metadata": {
  "kernelspec": {
   "display_name": "Python 3 (ipykernel)",
   "language": "python",
   "name": "python3"
  },
  "language_info": {
   "codemirror_mode": {
    "name": "ipython",
    "version": 3
   },
   "file_extension": ".py",
   "mimetype": "text/x-python",
   "name": "python",
   "nbconvert_exporter": "python",
   "pygments_lexer": "ipython3",
   "version": "3.9.13"
  }
 },
 "nbformat": 4,
 "nbformat_minor": 5
}

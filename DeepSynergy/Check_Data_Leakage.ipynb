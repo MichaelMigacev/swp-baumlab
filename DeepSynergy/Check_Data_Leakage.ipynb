{
 "cells": [
  {
   "cell_type": "markdown",
   "id": "387207b9",
   "metadata": {},
   "source": [
    "# CHECK_ DATA_LEAKAGE IN DEEP SYNERGY"
   ]
  },
  {
   "cell_type": "markdown",
   "id": "b0ecfbd4",
   "metadata": {},
   "source": [
    "### Assignment of Week 2: \n",
    "##### Author: Zhaoguo Wei  \n",
    "###### Group 3\n",
    "\n",
    "I tried to find out whether any data leakage occurred during the cross-validation procedures (leave-drug-combination-out, leave-drug-out, and leave-cell-line-out)."
   ]
  },
  {
   "cell_type": "markdown",
   "id": "05532f9d",
   "metadata": {},
   "source": [
    " "
   ]
  },
  {
   "cell_type": "markdown",
   "id": "4821125f",
   "metadata": {},
   "source": [
    "**task details:**\n",
    "\n",
    "Check for data leakage using the provided files:\n",
    "\n",
    "- smiles.csv and labels.csv (on GitHub they’ve only uploaded labels.csv for one CV scheme → leave-drug-combination-out)\n",
    "\n",
    "- Optional: generate new label files to cover the other two CV schemes → leave-drug-out and leave-cell-line-out\n",
    "\n",
    "Write a script to perform the checks in step 1.\n",
    "\n",
    "Verify (or “validate”) the results.\n"
   ]
  },
  {
   "cell_type": "markdown",
   "id": "e630a7cf",
   "metadata": {},
   "source": [
    " "
   ]
  },
  {
   "cell_type": "markdown",
   "id": "0226e9b2",
   "metadata": {},
   "source": [
    "## Script: Code for all three CV methods"
   ]
  },
  {
   "cell_type": "markdown",
   "id": "f4643d0a",
   "metadata": {},
   "source": [
    " "
   ]
  },
  {
   "cell_type": "code",
   "execution_count": 1,
   "id": "7ccf4c0d",
   "metadata": {},
   "outputs": [
    {
     "name": "stdout",
     "output_type": "stream",
     "text": [
      "=== CV Data Leakage Check for labels.csv ===\n",
      "1. Leave-combination-out : ✔ No leakage\n",
      "2. Leave-drug-out        : ⚠ Leakage\n",
      "3. Leave-cell-line-out   : ⚠ Leakage\n",
      "→ Matches scheme(s): Leave-combination-out\n"
     ]
    }
   ],
   "source": [
    "import pandas as pd\n",
    "\n",
    "def main():\n",
    "    # 1. Load labels.csv and normalize names\n",
    "    labels = pd.read_csv(\"/Volumes/Lenovo/projektseminar/labels.csv\", dtype=str)\n",
    "    for col in [\"drug_a_name\", \"drug_b_name\", \"cell_line\"]:\n",
    "        labels[col] = labels[col].str.strip().str.upper()\n",
    "    labels[\"fold\"] = labels[\"fold\"].astype(int)\n",
    "\n",
    "    # 2. Build a unique key for each drugA+drugB+cell combination\n",
    "    def combo_key(row):\n",
    "        drugs = sorted([row[\"drug_a_name\"], row[\"drug_b_name\"]])\n",
    "        return f\"{drugs[0]}__{drugs[1]}__{row['cell_line']}\"\n",
    "    labels[\"combo_key\"] = labels.apply(combo_key, axis=1)\n",
    "\n",
    "    # 3. Split into train/test by fold==0\n",
    "    mask_test  = labels[\"fold\"] == 0\n",
    "    mask_train = ~mask_test\n",
    "\n",
    "    # 4. Check Leave-combination-out: no combo overlap\n",
    "    train_combos = set(labels.loc[mask_train, \"combo_key\"])\n",
    "    test_combos  = set(labels.loc[mask_test,  \"combo_key\"])\n",
    "    combo_leak   = not train_combos.isdisjoint(test_combos)\n",
    "\n",
    "    # 5. Check Leave-drug-out: no drug overlap\n",
    "    train_drugs = set(labels.loc[mask_train, \"drug_a_name\"]) | set(labels.loc[mask_train, \"drug_b_name\"])\n",
    "    test_drugs  = set(labels.loc[mask_test,  \"drug_a_name\"]) | set(labels.loc[mask_test,  \"drug_b_name\"])\n",
    "    drug_leak   = not train_drugs.isdisjoint(test_drugs)\n",
    "\n",
    "    # 6. Check Leave-cell-line-out: no cell-line overlap\n",
    "    train_cells = set(labels.loc[mask_train, \"cell_line\"])\n",
    "    test_cells  = set(labels.loc[mask_test,  \"cell_line\"])\n",
    "    cell_leak   = not train_cells.isdisjoint(test_cells)\n",
    "\n",
    "    # 7. Print results\n",
    "    print(\"=== CV Data Leakage Check for labels.csv ===\")\n",
    "    print(f\"1. Leave-combination-out : {'⚠ Leakage' if combo_leak else '✔ No leakage'}\")\n",
    "    print(f\"2. Leave-drug-out        : {'⚠ Leakage' if drug_leak else '✔ No leakage'}\")\n",
    "    print(f\"3. Leave-cell-line-out   : {'⚠ Leakage' if cell_leak else '✔ No leakage'}\")\n",
    "\n",
    "    # 8. Summary\n",
    "    schemes = []\n",
    "    if not combo_leak:\n",
    "        schemes.append(\"Leave-combination-out\")\n",
    "    if not drug_leak:\n",
    "        schemes.append(\"Leave-drug-out\")\n",
    "    if not cell_leak:\n",
    "        schemes.append(\"Leave-cell-line-out\")\n",
    "\n",
    "    if schemes:\n",
    "        print(\"→ Matches scheme(s): \" + \", \".join(schemes))\n",
    "    else:\n",
    "        print(\"→ Does NOT match any of the three strict CV schemes.\")\n",
    "\n",
    "if __name__ == \"__main__\":\n",
    "    main()\n"
   ]
  },
  {
   "cell_type": "markdown",
   "id": "b51d0cc1",
   "metadata": {},
   "source": [
    " "
   ]
  },
  {
   "cell_type": "markdown",
   "id": "fd8e6cb4",
   "metadata": {},
   "source": [
    "Since only the combination criterion is satisfied (and both the drug- and cell-line criteria fail), my labels.csv fold assignment implements exactly the Leave-combination-out cross-validation and nothing else.\n",
    "(The DeepSynergy authors only provided a labels.csv for the leave-drug-combination-out scheme.)\n",
    "\n",
    "**→ In other words, there is no data leakage under the leave-drug-combination-out method.**"
   ]
  }
 ],
 "metadata": {
  "kernelspec": {
   "display_name": "Python 3 (ipykernel)",
   "language": "python",
   "name": "python3"
  },
  "language_info": {
   "codemirror_mode": {
    "name": "ipython",
    "version": 3
   },
   "file_extension": ".py",
   "mimetype": "text/x-python",
   "name": "python",
   "nbconvert_exporter": "python",
   "pygments_lexer": "ipython3",
   "version": "3.9.13"
  }
 },
 "nbformat": 4,
 "nbformat_minor": 5
}

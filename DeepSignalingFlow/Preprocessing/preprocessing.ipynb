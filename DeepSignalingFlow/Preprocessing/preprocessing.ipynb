{
 "cells": [
  {
   "cell_type": "markdown",
   "id": "e428e461",
   "metadata": {},
   "source": [
    "# Preparing the Data for Training\n",
    "\n",
    "### This Jupyter Notebook replicated the preprocessing steps on the original paper for better understanding\n",
    "\n",
    "The architecture of DeepSignalingFlow forces us to create seperate networks for each available dataset depending on the number of genes and drug combinations. We will thus start by only preprocessing the NCI ALMANAC Dataset.\n",
    "\n",
    "To prepare we need to download the following Datasets:\n",
    "\n",
    "NCI ALMANAC [Download](https://wiki.nci.nih.gov/spaces/NCIDTPdata/pages/338237347/NCI-ALMANAC) <br>\n",
    "KEGG [Download](https://www.genome.jp/kegg/) <br>\n",
    "DrugBank [Download](https://go.drugbank.com/) <br>\n",
    "Cell Model Passports RNA-Seq [Download](https://cog.sanger.ac.uk/cmp/download/rnaseq_20191101.zip) <br>\n",
    "Cell Model Passports CNV [Download](https://cog.sanger.ac.uk/cmp/download/cnv_20191101.zip) <br>\n",
    "\n",
    "\n"
   ]
  }
 ],
 "metadata": {
  "language_info": {
   "name": "python"
  }
 },
 "nbformat": 4,
 "nbformat_minor": 5
}

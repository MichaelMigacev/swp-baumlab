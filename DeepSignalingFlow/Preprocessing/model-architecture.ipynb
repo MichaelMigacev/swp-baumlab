{
 "cells": [
  {
   "cell_type": "markdown",
   "id": "01cd3b30",
   "metadata": {},
   "source": [
    "# Model Architecture"
   ]
  }
 ],
 "metadata": {
  "language_info": {
   "name": "python"
  }
 },
 "nbformat": 4,
 "nbformat_minor": 5
}

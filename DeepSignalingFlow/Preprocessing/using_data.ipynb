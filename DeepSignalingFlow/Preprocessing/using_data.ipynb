{
 "cells": [
  {
   "cell_type": "markdown",
   "id": "d24bcdc8",
   "metadata": {},
   "source": [
    "## What data gets passed to the model?\n",
    "\n",
    "right before our data gets passed to the train function there are 2 things happening with it first\n",
    "\n",
    "```pyhon\n",
    "geo_datalist = read_batch(index, upper_index, xTr, yTr, drugTr,\\\n",
    "                num_feature, num_gene, num_drug, edge_index)\n",
    "```\n",
    "&<br>\n",
    "```python\n",
    "dataset_loader, node_num, feature_dim = GeoGraphLoader.load_graph(geo_datalist, prog_args)\n",
    "```\n",
    "\n",
    "what does `read_batch` do?"
   ]
  },
  {
   "cell_type": "code",
   "execution_count": 2,
   "id": "cc225331",
   "metadata": {},
   "outputs": [],
   "source": [
    "import torch\n",
    "import numpy as np\n",
    "import pandas as pd\n",
    "import networkx as nx\n",
    "\n",
    "from numpy import inf\n",
    "from torch_geometric.data import Data"
   ]
  },
  {
   "cell_type": "markdown",
   "id": "84f553ad",
   "metadata": {},
   "source": [
    "### Loading our data"
   ]
  },
  {
   "cell_type": "code",
   "execution_count": 3,
   "id": "ffba0e76",
   "metadata": {},
   "outputs": [],
   "source": [
    "k = 5\n",
    "n_fold = 5\n",
    "fold_n = 5\n",
    "\n",
    "# DATASET SELECTION\n",
    "# dataset = 'data-drugcomb-fi'\n",
    "# dataset = 'data-DrugCombDB'\n",
    "dataset = 'data-nci'\n",
    "form_data_path = '../' + dataset + '/form_data'"
   ]
  },
  {
   "cell_type": "code",
   "execution_count": 4,
   "id": "b77b1628",
   "metadata": {},
   "outputs": [
    {
     "name": "stdout",
     "output_type": "stream",
     "text": [
      "--- LOADING TRAINING FILES ... ---\n"
     ]
    }
   ],
   "source": [
    "print('--- LOADING TRAINING FILES ... ---')\n",
    "xTr = np.load('../' + dataset + '/form_data/xTr' + str(fold_n) + '.npy')\n",
    "yTr = np.load('../' + dataset + '/form_data/yTr' + str(fold_n) + '.npy')\n",
    "drugTr =  np.load('../' + dataset + '/form_data/drugTr' + str(fold_n) + '.npy')\n",
    "edge_index = torch.from_numpy(np.load(form_data_path + '/edge_index.npy')).long() "
   ]
  },
  {
   "cell_type": "code",
   "execution_count": 5,
   "id": "ebd73774",
   "metadata": {},
   "outputs": [],
   "source": [
    "num_feature = 4\n",
    "dict_drug_num = pd.read_csv('../' + dataset + '/filtered_data/drug_num_dict.csv')\n",
    "num_drug = dict_drug_num.shape[0]\n",
    "final_annotation_gene_df = pd.read_csv('../' + dataset + '/filtered_data/kegg_gene_annotation.csv')\n",
    "num_gene = final_annotation_gene_df.shape[0]"
   ]
  },
  {
   "cell_type": "code",
   "execution_count": 6,
   "id": "9477ccc0",
   "metadata": {},
   "outputs": [],
   "source": [
    "class ReadGeoGraph():\n",
    "    def __init__(self, dir_opt):\n",
    "        self.dir_opt = dir_opt\n",
    "\n",
    "    def read_feature(self, num_graph, num_feature, num_gene, num_drug, xBatch):\n",
    "        # FORM [graph_feature_list]\n",
    "        num_node = num_gene + num_drug\n",
    "        xBatch = xBatch.reshape(num_graph, num_node, num_feature)\n",
    "        graph_feature_list = []\n",
    "        for i in range(num_graph):\n",
    "            graph_feature_list.append(xBatch[i, :, :])\n",
    "        return graph_feature_list\n",
    "\n",
    "    def read_label(self, yBatch):\n",
    "        yBatch_list = [label[0] for label in list(yBatch)]\n",
    "        graph_label_list = yBatch_list\n",
    "        return graph_label_list\n",
    "\n",
    "    def read_drug(self, num_graph, drugBatch):\n",
    "        graph_drug_list = []\n",
    "        for i in range(num_graph):\n",
    "            graph_drug_list.append(drugBatch[i, :])\n",
    "        return graph_drug_list\n",
    "\n",
    "    def form_geo_datalist(self, num_graph, graph_feature_list, graph_label_list, graph_drug_list, edge_index):\n",
    "        geo_datalist = []\n",
    "        for i in range(num_graph):\n",
    "            graph_feature = graph_feature_list[i]\n",
    "            graph_label = graph_label_list[i]\n",
    "            graph_drug = graph_drug_list[i]\n",
    "            # CONVERT [numpy] TO [torch]\n",
    "            graph_feature = torch.from_numpy(graph_feature).float()\n",
    "            graph_label = torch.from_numpy(np.array([graph_label])).float()\n",
    "            graph_drug = torch.from_numpy(graph_drug).int()\n",
    "            geo_data = Data(x=graph_feature, edge_index=edge_index, label=graph_label, drug_index=graph_drug)\n",
    "            geo_datalist.append(geo_data)\n",
    "        return geo_datalist\n",
    "\n",
    "\n",
    "def read_batch(index, upper_index, x_input, y_input, drug_input,\\\n",
    "            num_feature, num_gene, num_drug, edge_index):\n",
    "    # FORMING BATCH FILES\n",
    "    dir_opt = '/datainfo'\n",
    "    form_data_path = './datainfo/form_data'\n",
    "    print('--------------' + str(index) + ' to ' + str(upper_index) + '--------------')\n",
    "    xBatch = x_input[index : upper_index, :]\n",
    "    yBatch = y_input[index : upper_index, :]\n",
    "    drugBatch = drug_input[index : upper_index, :]\n",
    "    print(xBatch.shape)\n",
    "    print(yBatch.shape)\n",
    "    print(drugBatch.shape)\n",
    "    # PREPARE LOADING LISTS OF [features, labels, drugs, edge_index]\n",
    "    print('READING BATCH GRAPHS TO LISTS ...')\n",
    "    num_graph = upper_index - index\n",
    "    # print('READING BATCH FEATURES ...')\n",
    "    # For each row there is a [2034 by 4] array\n",
    "    # That means for each node (gene or drug) there are 4 numbers\n",
    "    # DoubleDrug, SingleDrug, RNA, CNV\n",
    "    graph_feature_list =  ReadGeoGraph(dir_opt).read_feature(num_graph, num_feature, num_gene, num_drug, xBatch)\n",
    "    # print('READING BATCH LABELS ...')\n",
    "    # put the scores in a list\n",
    "    graph_label_list = ReadGeoGraph(dir_opt).read_label(yBatch)\n",
    "    # print('READING BATCH DRUGS ...')\n",
    "    # transform list of drugs into a list\n",
    "    graph_drug_list = ReadGeoGraph(dir_opt).read_drug(num_graph, drugBatch)\n",
    "    # print('FORMING GEOMETRIC GRAPH DATALIST ...')\n",
    "    # for each x in batch,\n",
    "    # create a graph, with \n",
    "    # label=score\n",
    "    # drug_index=[DRG A, DRG B]\n",
    "    # 2034 nodes each node 4 features\n",
    "    # connections according to edge_index (all drugs and genes, drugs and targets bidirectional, genes depending on graph)\n",
    "    geo_datalist = ReadGeoGraph(dir_opt).form_geo_datalist(num_graph, \\\n",
    "        graph_feature_list, graph_label_list, graph_drug_list, edge_index)\n",
    "    return geo_datalist"
   ]
  },
  {
   "cell_type": "code",
   "execution_count": 7,
   "id": "a0ecc400",
   "metadata": {},
   "outputs": [],
   "source": [
    "index = 0\n",
    "upper_index = 64\n"
   ]
  },
  {
   "cell_type": "code",
   "execution_count": 8,
   "id": "fce605ba",
   "metadata": {},
   "outputs": [
    {
     "name": "stdout",
     "output_type": "stream",
     "text": [
      "(8136,)\n",
      "(1,)\n",
      "(2,)\n",
      "[2.11111111]\n",
      "[2022. 2030.]\n",
      "torch.Size([2, 18610])\n",
      "tensor([  17, 1240])\n"
     ]
    }
   ],
   "source": [
    "print(xTr[0].shape)\n",
    "print(yTr[0].shape)\n",
    "print(drugTr[0].shape)\n",
    "print(yTr[0])\n",
    "print(drugTr[0])\n",
    "print(edge_index[:, :].shape)\n",
    "print(edge_index[:, 0])"
   ]
  },
  {
   "cell_type": "code",
   "execution_count": 9,
   "id": "1af0ee80",
   "metadata": {},
   "outputs": [
    {
     "name": "stdout",
     "output_type": "stream",
     "text": [
      "--------------0 to 64--------------\n",
      "(64, 8136)\n",
      "(64, 1)\n",
      "(64, 2)\n",
      "READING BATCH GRAPHS TO LISTS ...\n"
     ]
    },
    {
     "data": {
      "text/plain": [
       "64"
      ]
     },
     "execution_count": 9,
     "metadata": {},
     "output_type": "execute_result"
    }
   ],
   "source": [
    "geo_datalist = read_batch(index, upper_index, xTr, yTr, drugTr,\\\n",
    "                num_feature, num_gene, num_drug, edge_index)\n",
    "len(geo_datalist)"
   ]
  },
  {
   "cell_type": "code",
   "execution_count": 10,
   "id": "76e8d1f2",
   "metadata": {},
   "outputs": [
    {
     "name": "stdout",
     "output_type": "stream",
     "text": [
      "--------------0 to 64--------------\n",
      "(64, 8136)\n",
      "(64, 1)\n",
      "(64, 2)\n",
      "READING BATCH GRAPHS TO LISTS ...\n",
      "[[ 0.  0. 29. -1.]\n",
      " [ 0.  0. 11.  1.]\n",
      " [ 0.  0.  6.  1.]\n",
      " ...\n",
      " [ 0.  0.  0.  0.]\n",
      " [ 0.  0.  0.  0.]\n",
      " [ 0.  0.  0.  0.]]\n"
     ]
    }
   ],
   "source": [
    "# FORMING BATCH FILES\n",
    "dir_opt = '/datainfo'\n",
    "form_data_path = './datainfo/form_data'\n",
    "print('--------------' + str(index) + ' to ' + str(upper_index) + '--------------')\n",
    "xBatch = xTr[index : upper_index, :]\n",
    "yBatch = yTr[index : upper_index, :]\n",
    "drugBatch = drugTr[index : upper_index, :]\n",
    "print(xBatch.shape)\n",
    "print(yBatch.shape)\n",
    "print(drugBatch.shape)\n",
    "# PREPARE LOADING LISTS OF [features, labels, drugs, edge_index]\n",
    "print('READING BATCH GRAPHS TO LISTS ...')\n",
    "num_graph = upper_index - index\n",
    "# print('READING BATCH FEATURES ...')\n",
    "graph_feature_list =  ReadGeoGraph(dir_opt).read_feature(num_graph, num_feature, num_gene, num_drug, xBatch)\n",
    "print(graph_feature_list[0])"
   ]
  },
  {
   "cell_type": "code",
   "execution_count": 11,
   "id": "edefb4f5",
   "metadata": {},
   "outputs": [
    {
     "name": "stdout",
     "output_type": "stream",
     "text": [
      "(64, 8136)\n",
      "(64, 2034, 4)\n"
     ]
    },
    {
     "data": {
      "text/plain": [
       "array([0., 0., 2., 0.])"
      ]
     },
     "execution_count": 11,
     "metadata": {},
     "output_type": "execute_result"
    }
   ],
   "source": [
    "num_node = num_gene + num_drug\n",
    "print(xBatch.shape)\n",
    "xBatch = xBatch.reshape(num_graph, num_node, num_feature)\n",
    "print(xBatch.shape)\n",
    "graph_feature_list = []\n",
    "for i in range(num_graph):\n",
    "    graph_feature_list.append(xBatch[i, :, :])\n",
    "graph_feature_list[0][1890]"
   ]
  },
  {
   "cell_type": "code",
   "execution_count": 12,
   "id": "eca94245",
   "metadata": {},
   "outputs": [
    {
     "name": "stdout",
     "output_type": "stream",
     "text": [
      "(64, 1)\n",
      "[2.111111111111111, -3.333333333333333, -8.11111111111111, 4.888888888888889, -18.77777777777778, -5.444444444444445, 1.0, -3.0, -0.3333333333333333, -5.555555555555555, 5.444444444444445, 4.222222222222222, -7.444444444444445, -4.111111111111111, 11.77777777777778, -7.555555555555555, -3.6666666666666665, -8.11111111111111, -1.8888888888888888, -2.111111111111111, -15.77777777777778, 11.77777777777778, -8.333333333333334, -4.111111111111111, -5.222222222222222, 1.7777777777777777, -2.2222222222222223, 8.777777777777779, -3.7777777777777777, -4.333333333333333, -3.555555555555556, -15.555555555555555, 2.2222222222222223, -3.111111111111111, -5.888888888888889, -2.7777777777777777, -10.11111111111111, -12.333333333333334, -4.666666666666667, -4.444444444444445, 0.5555555555555556, 2.4444444444444446, -0.2222222222222222, -5.222222222222222, -3.0, -3.2222222222222223, -4.222222222222222, 21.444444444444443, -1.7777777777777777, -5.444444444444445, 1.3333333333333333, -2.7777777777777777, -3.2222222222222223, -7.666666666666667, -5.333333333333333, -3.6666666666666665, -7.666666666666667, -13.11111111111111, 1.1111111111111112, 2.111111111111111, 11.333333333333334, 22.33333333333333, -3.888888888888889, 33.666666666666664]\n"
     ]
    }
   ],
   "source": [
    "print(yBatch.shape)\n",
    "yBatch_list = [label[0] for label in list(yBatch)]\n",
    "\n",
    "graph_label_list = yBatch_list\n",
    "print(graph_label_list)"
   ]
  },
  {
   "cell_type": "code",
   "execution_count": 13,
   "id": "e0699afc",
   "metadata": {},
   "outputs": [
    {
     "name": "stdout",
     "output_type": "stream",
     "text": [
      "(2,)\n"
     ]
    },
    {
     "data": {
      "text/plain": [
       "(2,)"
      ]
     },
     "execution_count": 13,
     "metadata": {},
     "output_type": "execute_result"
    }
   ],
   "source": [
    "graph_drug_list = []\n",
    "print(drugBatch[0].shape)\n",
    "for i in range(num_graph):\n",
    "    graph_drug_list.append(drugBatch[i, :])\n",
    "graph_drug_list[0].shape"
   ]
  },
  {
   "cell_type": "code",
   "execution_count": 15,
   "id": "a1180ed5",
   "metadata": {},
   "outputs": [
    {
     "data": {
      "text/plain": [
       "2034"
      ]
     },
     "execution_count": 15,
     "metadata": {},
     "output_type": "execute_result"
    }
   ],
   "source": [
    "geo_datalist = []\n",
    "for i in range(num_graph):\n",
    "    graph_feature = graph_feature_list[i]\n",
    "    #print(len(graph_feature))\n",
    "    graph_label = graph_label_list[i]\n",
    "    #print(graph_label)\n",
    "    graph_drug = graph_drug_list[i]\n",
    "    #print(graph_drug)\n",
    "    # CONVERT [numpy] TO [torch]\n",
    "    graph_feature = torch.from_numpy(graph_feature).float()\n",
    "    graph_label = torch.from_numpy(np.array([graph_label])).float()\n",
    "    graph_drug = torch.from_numpy(graph_drug).int()\n",
    "    geo_data = Data(x=graph_feature, edge_index=edge_index, label=graph_label, drug_index=graph_drug)\n",
    "    #print(edge_index.shape)\n",
    "    geo_datalist.append(geo_data)\n",
    "\n",
    "geo_datalist[0].x.shape[0]"
   ]
  }
 ],
 "metadata": {
  "kernelspec": {
   "display_name": "Python 3",
   "language": "python",
   "name": "python3"
  },
  "language_info": {
   "codemirror_mode": {
    "name": "ipython",
    "version": 3
   },
   "file_extension": ".py",
   "mimetype": "text/x-python",
   "name": "python",
   "nbconvert_exporter": "python",
   "pygments_lexer": "ipython3",
   "version": "3.11.9"
  }
 },
 "nbformat": 4,
 "nbformat_minor": 5
}

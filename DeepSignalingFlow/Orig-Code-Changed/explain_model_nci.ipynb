{
 "cells": [
  {
   "cell_type": "markdown",
   "id": "1e4561d6",
   "metadata": {},
   "source": [
    "## Explainability for GNNs\n",
    "\n",
    "In this notebook, I want to try out the interpretation package for GNNs from PyTorch."
   ]
  },
  {
   "cell_type": "code",
   "execution_count": 27,
   "id": "d7e05e2c",
   "metadata": {},
   "outputs": [],
   "source": [
    "import torch\n",
    "import numpy as np\n",
    "import pandas as pd\n",
    "import matplotlib.pyplot as plt\n",
    "from torch_geometric.explain import Explainer, GNNExplainer\n",
    "from torch_geometric.data import Data\n",
    "import os"
   ]
  },
  {
   "cell_type": "code",
   "execution_count": 28,
   "id": "4e6aa797",
   "metadata": {},
   "outputs": [],
   "source": [
    "from enc_dec.geo_webgnn_decoder import WeBGNNDecoder\n",
    "from geo_loader.read_geograph import read_batch\n",
    "from geo_loader.geograph_sampler import GeoGraphLoader"
   ]
  },
  {
   "cell_type": "markdown",
   "id": "4e2c7eec",
   "metadata": {},
   "source": [
    "Supposedly, GNNExplainer from PyTorch can help understand which parts of the graph (nodes and edges) are most influential for a given prediction. For our WeBGNNDecoder, which predicts drug synergy, we want to explain the prediction for a specific pair of drugs."
   ]
  },
  {
   "cell_type": "code",
   "execution_count": 29,
   "id": "7071f29f",
   "metadata": {},
   "outputs": [],
   "source": [
    "def load_dataset_info(dataset='data-nci'):\n",
    "    \"\"\"\n",
    "    Load all dataset information including gene and drug counts, names, and network structure:\n",
    "\n",
    "    - Number of genes and drugs in the dataset\n",
    "    - Gene and drug names for interpretation\n",
    "    - Network structure information (edges between genes and drugs)\n",
    "    \n",
    "    Returns:\n",
    "        dict: Contains all dataset information needed for model setup and explanation\n",
    "    \"\"\"\n",
    "    gene_df = pd.read_csv(f'../{dataset}/filtered_data/kegg_gene_annotation.csv')\n",
    "    drug_df = pd.read_csv(f'../{dataset}/filtered_data/drug_num_dict.csv')\n",
    "    gene_edge_df = pd.read_csv(f'../{dataset}/filtered_data/kegg_gene_num_interaction.csv')\n",
    "    drugbank_df = pd.read_csv(f'../{dataset}/filtered_data/final_drugbank_num_sym.csv')\n",
    "    \n",
    "    num_gene = len(gene_df)\n",
    "    num_drug = len(drug_df)\n",
    "    node_num = num_gene + num_drug\n",
    "    num_gene_edge = len(gene_edge_df)\n",
    "    num_drug_edge = len(drugbank_df)\n",
    "    num_edge = num_gene_edge + num_drug_edge\n",
    "    \n",
    "    # Store names for interpretation\n",
    "    gene_names = list(gene_df['kegg_gene'])\n",
    "    drug_names = list(drug_df['Drug'])\n",
    "    \n",
    "    dataset_info = {\n",
    "        'num_gene': num_gene,\n",
    "        'num_drug': num_drug,\n",
    "        'node_num': node_num,\n",
    "        'num_gene_edge': num_gene_edge,\n",
    "        'num_drug_edge': num_drug_edge,\n",
    "        'num_edge': num_edge,\n",
    "        'gene_names': gene_names,\n",
    "        'drug_names': drug_names\n",
    "    }\n",
    "    \n",
    "    print(f\"Dataset info - Genes: {num_gene}, Drugs: {num_drug}, Total nodes: {node_num}\")\n",
    "    print(f\"Network info - Gene edges: {num_gene_edge}, Drug edges: {num_drug_edge}, Total edges: {num_edge}\")\n",
    "    \n",
    "    print(f\"All {num_drug} drugs in the dataset:\")\n",
    "    for i, drug in enumerate(drug_names, 1):\n",
    "        print(f\"   {i:2d}. {drug}\")\n",
    "\n",
    "    print(f\"Genes in the dataset (showing first 10 of {num_gene} total):\")\n",
    "    for i, gene in enumerate(gene_names[:10], 1):\n",
    "        print(f\"      {i:2d}. {gene}\")\n",
    "    \n",
    "    return dataset_info"
   ]
  },
  {
   "cell_type": "markdown",
   "id": "ee33e3d4",
   "metadata": {},
   "source": [
    "Here is our dataset information."
   ]
  },
  {
   "cell_type": "code",
   "execution_count": 30,
   "id": "4210f4ae",
   "metadata": {},
   "outputs": [
    {
     "name": "stdout",
     "output_type": "stream",
     "text": [
      "Dataset info - Genes: 2016, Drugs: 18, Total nodes: 2034\n",
      "Network info - Gene edges: 18512, Drug edges: 98, Total edges: 18610\n",
      "All 18 drugs in the dataset:\n",
      "    1. Celecoxib\n",
      "    2. Cladribine\n",
      "    3. Dasatinib\n",
      "    4. Docetaxel\n",
      "    5. Everolimus\n",
      "    6. Fulvestrant\n",
      "    7. Gefitinib\n",
      "    8. Lenalidomide\n",
      "    9. Megestrol acetate\n",
      "   10. Mitotane\n",
      "   11. Nilotinib\n",
      "   12. Paclitaxel\n",
      "   13. Romidepsin\n",
      "   14. Sirolimus\n",
      "   15. Streptozocin\n",
      "   16. Thalidomide\n",
      "   17. Tretinoin\n",
      "   18. Vorinostat\n",
      "Genes in the dataset (showing first 10 of 2016 total):\n",
      "       1. ABL1\n",
      "       2. ABL2\n",
      "       3. ACAA1\n",
      "       4. ACACA\n",
      "       5. ACACB\n",
      "       6. ACADL\n",
      "       7. ACADM\n",
      "       8. ACOX1\n",
      "       9. ACOX2\n",
      "      10. ACOX3\n"
     ]
    }
   ],
   "source": [
    "dataset_info = load_dataset_info('data-nci')"
   ]
  },
  {
   "cell_type": "code",
   "execution_count": 40,
   "id": "f310cf43",
   "metadata": {},
   "outputs": [],
   "source": [
    "def build_and_load_model(model_path, dataset_info, device=None):\n",
    "    \"\"\"\n",
    "    Build the WeBGNNDecoder model architecture and load the weights.\n",
    "    \n",
    "    - Creates the model with the original architecture parameters\n",
    "    - Loads the trained weights from checkpoint\n",
    "    - Sets model to evaluation mode for inference\n",
    "    \n",
    "    Args:\n",
    "        model_path (str): Path to the saved model checkpoint\n",
    "        dataset_info (dict): Dataset information from load_dataset_info()\n",
    "        device: PyTorch device (cpu for me, because apparently batch normalization layers are not compatible with mps)\n",
    "    \n",
    "    Returns:\n",
    "        model: Loaded and ready-to-use model\n",
    "    \"\"\"\n",
    "    if device is None:\n",
    "        # if torch.backends.mps.is_available():\n",
    "        #     device = torch.device('mps')\n",
    "        #     print(\"Using MPS\")\n",
    "        if torch.cuda.is_available():\n",
    "            device = torch.device('cuda')\n",
    "            print(\"Using CUDA\")\n",
    "        else:\n",
    "            device = torch.device('cpu')\n",
    "            print(\"Using CPU\")\n",
    "    \n",
    "    # Model hyperparameters\n",
    "    input_dim = 4\n",
    "    hidden_dim = 4\n",
    "    output_dim = 36\n",
    "    decoder_dim = 150\n",
    "    \n",
    "    model = WeBGNNDecoder(\n",
    "        input_dim=input_dim,\n",
    "        hidden_dim=hidden_dim,\n",
    "        embedding_dim=output_dim,\n",
    "        decoder_dim=decoder_dim,\n",
    "        node_num=dataset_info['node_num'],\n",
    "        num_edge=dataset_info['num_edge'],\n",
    "        num_gene_edge=dataset_info['num_gene_edge'],\n",
    "        device=device\n",
    "    )\n",
    "    \n",
    "    # Load trained weights\n",
    "    checkpoint = torch.load(model_path, map_location=device, weights_only=False)\n",
    "    if 'model_state_dict' in checkpoint:\n",
    "        model.load_state_dict(checkpoint['model_state_dict'])\n",
    "    else:\n",
    "        model.load_state_dict(checkpoint)\n",
    "    \n",
    "    model.eval()\n",
    "    model = model.to(device)\n",
    "    print(f\"Model loaded from: {model_path}\")\n",
    "    return model"
   ]
  },
  {
   "cell_type": "markdown",
   "id": "a0f04987",
   "metadata": {},
   "source": [
    "Now, we just load the model..."
   ]
  },
  {
   "cell_type": "code",
   "execution_count": 41,
   "id": "097743d1",
   "metadata": {},
   "outputs": [
    {
     "name": "stdout",
     "output_type": "stream",
     "text": [
      "Using CUDA\n",
      "Model loaded from: ../data-nci/result/epoch_500_fold_1/best_train_model.pt\n"
     ]
    }
   ],
   "source": [
    "model = build_and_load_model('../data-nci/result/epoch_500_fold_1/best_train_model.pt', dataset_info)"
   ]
  },
  {
   "cell_type": "code",
   "execution_count": 42,
   "id": "5369bc9d",
   "metadata": {},
   "outputs": [],
   "source": [
    "def load_test_data(dataset='data-oneil', fold_n=4):\n",
    "    \"\"\"\n",
    "    Load test data for explanation including features, labels, and drug combinations.\n",
    "    \n",
    "    Args:\n",
    "        dataset (str): Dataset name\n",
    "        fold_n (int): Cross-validation fold number\n",
    "    \n",
    "    Returns:\n",
    "        dict: Contains all test data needed for explanation\n",
    "    \"\"\"\n",
    "    form_data_path = f'../{dataset}/form_data'\n",
    "    \n",
    "    xTe = np.load(f'{form_data_path}/xTe{fold_n}.npy')\n",
    "    yTe = np.load(f'{form_data_path}/yTe{fold_n}.npy')\n",
    "    drugTe = np.load(f'{form_data_path}/drugTe{fold_n}.npy')\n",
    "    edge_index = torch.from_numpy(np.load(f'{form_data_path}/edge_index.npy')).long()\n",
    "    \n",
    "    test_data = {\n",
    "        'xTe': xTe,\n",
    "        'yTe': yTe,\n",
    "        'drugTe': drugTe,\n",
    "        'edge_index': edge_index\n",
    "    }\n",
    "    \n",
    "    print(f\"Test data loaded - {len(xTe)} samples\")\n",
    "    return test_data"
   ]
  },
  {
   "cell_type": "markdown",
   "id": "128ad19b",
   "metadata": {},
   "source": [
    "... and the data"
   ]
  },
  {
   "cell_type": "code",
   "execution_count": 43,
   "id": "60aa277d",
   "metadata": {},
   "outputs": [
    {
     "name": "stdout",
     "output_type": "stream",
     "text": [
      "Test data loaded - 788 samples\n"
     ]
    }
   ],
   "source": [
    "test_data = load_test_data('data-nci', fold_n=1)"
   ]
  },
  {
   "cell_type": "code",
   "execution_count": 44,
   "id": "93d258a2",
   "metadata": {},
   "outputs": [],
   "source": [
    "def prepare_sample_data(sample_idx, test_data, dataset_info):\n",
    "    \"\"\"\n",
    "    Prepare a single test sample for explanation by converting it to PyTorch Geometric format.\n",
    "\n",
    "    \n",
    "    Args:\n",
    "        sample_idx (int): Index of the test sample to explain\n",
    "        test_data (dict): Test data from load_test_data()\n",
    "        dataset_info (dict): Dataset info from load_dataset_info()\n",
    "    \n",
    "    Returns:\n",
    "        data: PyTorch Geometric data object ready for model input\n",
    "    \"\"\"\n",
    "\n",
    "    geo_datalist = read_batch(\n",
    "        sample_idx,\n",
    "        sample_idx + 1,\n",
    "        test_data['xTe'],\n",
    "        test_data['yTe'],\n",
    "        test_data['drugTe'],\n",
    "        4,\n",
    "        dataset_info['num_gene'],\n",
    "        dataset_info['num_drug'],\n",
    "        test_data['edge_index']\n",
    "    )\n",
    "    \n",
    "    # Extract data object\n",
    "    data = geo_datalist[0] if isinstance(geo_datalist, list) else geo_datalist\n",
    "    print(f\"Data prepared - x shape: {data.x.shape}, edge_index shape: {data.edge_index.shape}\")\n",
    "    return data"
   ]
  },
  {
   "cell_type": "markdown",
   "id": "b7803009",
   "metadata": {},
   "source": [
    "Now we prepare the sample we want to explain. For now, I will just use the first from our 294 samples. But in another notebook I will also try to come up with less random strategy to choose the samples for explanation.  "
   ]
  },
  {
   "cell_type": "code",
   "execution_count": 56,
   "id": "b6596eac",
   "metadata": {},
   "outputs": [
    {
     "name": "stdout",
     "output_type": "stream",
     "text": [
      "Using CUDA\n"
     ]
    }
   ],
   "source": [
    "if torch.cuda.is_available():\n",
    "    device = torch.device('cuda')\n",
    "    print(\"Using CUDA\")\n",
    "else:\n",
    "    device = torch.device('cpu')\n",
    "    print(\"Using CPU\")"
   ]
  },
  {
   "cell_type": "code",
   "execution_count": 57,
   "id": "d73be9fb",
   "metadata": {},
   "outputs": [
    {
     "name": "stdout",
     "output_type": "stream",
     "text": [
      "--------------0 to 1--------------\n",
      "Data prepared - x shape: torch.Size([2034, 4]), edge_index shape: torch.Size([2, 18610])\n"
     ]
    }
   ],
   "source": [
    "sample_idx = 0  # Index of the sample to explain\n",
    "\n",
    "data = prepare_sample_data(sample_idx, test_data, dataset_info)\n",
    "data = data.to(device)"
   ]
  },
  {
   "cell_type": "markdown",
   "id": "08ccef65",
   "metadata": {},
   "source": [
    "We also want to know, which drug pair we are explaining."
   ]
  },
  {
   "cell_type": "code",
   "execution_count": 58,
   "id": "7802a0ca",
   "metadata": {},
   "outputs": [
    {
     "name": "stdout",
     "output_type": "stream",
     "text": [
      "Drug node indices in graph: [2021, 2030]\n",
      "Number of genes: 2016\n",
      "Drug name indices: [5, 14]\n",
      "Sample 0 Information:\n",
      "   Graph node indices: [2021, 2030]\n",
      "   Drug name indices: [5, 14]\n",
      "   Drug names: Fulvestrant + Streptozocin\n",
      "   True synergy score: 3.8889\n",
      "Classification: SYNERGISTIC (positive synergy)\n"
     ]
    }
   ],
   "source": [
    "def identify_drug_pair(sample_idx, test_data, dataset_info):\n",
    "    # Get the drug indices (which are graph node indices)\n",
    "    drug_node_indices = test_data['drugTe'][sample_idx]\n",
    "    drug_node_indices_int = [int(idx) for idx in drug_node_indices]\n",
    "    \n",
    "    print(f\"Drug node indices in graph: {drug_node_indices_int}\")\n",
    "    \n",
    "    # Convert graph node indices to drug name indices\n",
    "    # Drugs start after all genes (at position num_gene)\n",
    "    num_genes = dataset_info['num_gene']  # Supposed to be 2016\n",
    "    \n",
    "    drug_name_indices = [idx - num_genes for idx in drug_node_indices_int]\n",
    "    \n",
    "    print(f\"Number of genes: {num_genes}\")\n",
    "    print(f\"Drug name indices: {drug_name_indices}\")\n",
    "    \n",
    "    # Validate the indices\n",
    "    for idx in drug_name_indices:\n",
    "        if idx < 0 or idx >= len(dataset_info['drug_names']):\n",
    "            print(f\"Error: Drug name index {idx} is out of range (0-{len(dataset_info['drug_names'])-1})\")\n",
    "            return None\n",
    "    \n",
    "    # Get the drug names\n",
    "    drug_names = [dataset_info['drug_names'][idx] for idx in drug_name_indices]\n",
    "    \n",
    "    # Get the synergy score and convert to scalar\n",
    "    synergy_score = test_data['yTe'][sample_idx]\n",
    "    \n",
    "    # Handle numpy array conversion\n",
    "    if hasattr(synergy_score, 'item'):\n",
    "        synergy_score = synergy_score.item()  # Convert numpy array to scalar\n",
    "    elif isinstance(synergy_score, (list, tuple)):\n",
    "        synergy_score = synergy_score[0]      # Take first element if it's a list\n",
    "    \n",
    "    print(f\"Sample {sample_idx} Information:\")\n",
    "    print(f\"   Graph node indices: {drug_node_indices_int}\")\n",
    "    print(f\"   Drug name indices: {drug_name_indices}\")\n",
    "    print(f\"   Drug names: {drug_names[0]} + {drug_names[1]}\")\n",
    "    print(f\"   True synergy score: {synergy_score:.4f}\")\n",
    "    \n",
    "    if synergy_score > 0:\n",
    "        print(f\"Classification: SYNERGISTIC (positive synergy)\")\n",
    "    elif synergy_score < 0:\n",
    "        print(f\"Classification: ANTAGONISTIC (negative synergy)\")\n",
    "    else:\n",
    "        print(f\"Classification: NEUTRAL (no synergy)\")\n",
    "\n",
    "    return {\n",
    "        'sample_idx': sample_idx,\n",
    "        'graph_node_indices': drug_node_indices_int,\n",
    "        'drug_name_indices': drug_name_indices,\n",
    "        'drug_names': drug_names,\n",
    "        'synergy_score': synergy_score\n",
    "    }\n",
    "\n",
    "# Test with sample 0\n",
    "drug_pair_info = identify_drug_pair(0, test_data, dataset_info)"
   ]
  },
  {
   "cell_type": "markdown",
   "id": "9285d6ed",
   "metadata": {},
   "source": [
    "In this next function, we have to wrap the model into a compatibility layer, because the GNN explainer expects the model to have two inputs (x and edge_index in our case), but our model's forward function expects three inputs (x, edge_index, drug_index)."
   ]
  },
  {
   "cell_type": "code",
   "execution_count": 59,
   "id": "c6c4a8f6",
   "metadata": {},
   "outputs": [],
   "source": [
    "def generate_explanation(model, data, num_epochs=50):\n",
    "    \"\"\"\n",
    "    Generate explanation for a model prediction using GNNExplainer.\n",
    "\n",
    "    Args:\n",
    "        model: Trained WeBGNNDecoder model\n",
    "        data: Sample data from prepare_sample_data()\n",
    "        num_epochs (int): Number of epochs for explanation training\n",
    "    \n",
    "    Returns:\n",
    "        tuple: (explanation object, original data)\n",
    "    \"\"\"\n",
    "    # Create model wrapper for explanation\n",
    "    class ModelWrapper(torch.nn.Module):\n",
    "        def __init__(self, model, drug_index):\n",
    "            super().__init__()\n",
    "            self.model = model\n",
    "            self.drug_index = drug_index\n",
    "        \n",
    "        def forward(self, x, edge_index, batch=None, **kwargs):\n",
    "            return self.model(x, edge_index, self.drug_index)\n",
    "    \n",
    "    wrapped_model = ModelWrapper(model, data.drug_index)\n",
    "    \n",
    "    # Create GNNExplainer\n",
    "    explainer = Explainer(\n",
    "        model=wrapped_model,\n",
    "        algorithm=GNNExplainer(epochs=num_epochs, lr=0.01),\n",
    "        explanation_type='model',\n",
    "        node_mask_type='attributes',\n",
    "        edge_mask_type='object',\n",
    "        model_config=dict(\n",
    "            mode='regression',\n",
    "            task_level='graph',\n",
    "            return_type='raw',\n",
    "        ),\n",
    "    )\n",
    "    \n",
    "    # Generate explanation\n",
    "    try:\n",
    "        explanation = explainer(\n",
    "            x=data.x,\n",
    "            edge_index=data.edge_index,\n",
    "            batch=getattr(data, 'batch', None)\n",
    "        )\n",
    "        \n",
    "        print(\"Explanation generated successfully!\")\n",
    "        return explanation, data\n",
    "        \n",
    "    except Exception as e:\n",
    "        print(f\"Error generating explanation: {e}\")\n",
    "        import traceback\n",
    "        traceback.print_exc()\n",
    "        return None, data"
   ]
  },
  {
   "cell_type": "markdown",
   "id": "b55ef816",
   "metadata": {},
   "source": [
    "Now we generate explanations..."
   ]
  },
  {
   "cell_type": "code",
   "execution_count": 60,
   "id": "c4613190",
   "metadata": {},
   "outputs": [
    {
     "name": "stdout",
     "output_type": "stream",
     "text": [
      "Explanation generated successfully!\n"
     ]
    }
   ],
   "source": [
    "explanation, data = generate_explanation(model, data, num_epochs=50)"
   ]
  },
  {
   "cell_type": "code",
   "execution_count": 61,
   "id": "5ee48388",
   "metadata": {},
   "outputs": [],
   "source": [
    "def visualize_node_importance(explanation, data, dataset_info, sample_idx=0, top_k=15):\n",
    "    \"\"\"\n",
    "    Create visualizations showing which nodes (genes/drugs) are most important for the prediction.\n",
    "    \n",
    "    This function creates 4 subplots:\n",
    "    1. Bar chart of all node importance scores\n",
    "    2. Top K most important nodes with gene/drug names\n",
    "    3. Distribution histogram of importance scores\n",
    "    4. Comparison between gene and drug importance\n",
    "    \n",
    "    Args:\n",
    "        explanation: Explanation object from generate_explanation()\n",
    "        data: Sample data\n",
    "        dataset_info: Dataset information\n",
    "        sample_idx: Sample index for file naming\n",
    "        top_k: Number of top features to highlight\n",
    "    \"\"\"\n",
    "    if explanation is None or not hasattr(explanation, 'node_mask') or explanation.node_mask is None:\n",
    "        print(\"No node importance data to visualize\")\n",
    "        return\n",
    "    \n",
    "    # Create output directory\n",
    "    os.makedirs('./explanations', exist_ok=True)\n",
    "    \n",
    "    node_mask = explanation.node_mask\n",
    "    print(f\"Node mask shape: {node_mask.shape}\")\n",
    "    print(f\"Data x shape: {data.x.shape}\")\n",
    "    \n",
    "    # Handle different node mask shapes\n",
    "    if len(node_mask.shape) == 2:\n",
    "        node_importance = node_mask.mean(dim=1).cpu().numpy()\n",
    "    else:\n",
    "        node_importance = node_mask.cpu().numpy()\n",
    "    \n",
    "    print(f\"Node importance shape: {node_importance.shape}\")\n",
    "    \n",
    "    # Get top important nodes\n",
    "    top_nodes = np.argsort(node_importance)[-top_k:][::-1]\n",
    "    \n",
    "    plt.figure(figsize=(15, 10))\n",
    "    \n",
    "    # Plot 1: All node importance scores\n",
    "    plt.subplot(2, 2, 1)\n",
    "    plt.bar(range(len(node_importance)), node_importance)\n",
    "    plt.title('All Node Importance Scores')\n",
    "    plt.xlabel('Node Index')\n",
    "    plt.ylabel('Importance Score')\n",
    "    \n",
    "    # Plot 2: Top important nodes with names\n",
    "    plt.subplot(2, 2, 2)\n",
    "    labels = []\n",
    "    values = []\n",
    "    for i, node_idx in enumerate(top_nodes):\n",
    "        if node_idx < len(dataset_info['gene_names']):\n",
    "            labels.append(f\"Gene: {dataset_info['gene_names'][node_idx][:15]}\")\n",
    "        else:\n",
    "            drug_idx = node_idx - len(dataset_info['gene_names'])\n",
    "            if drug_idx < len(dataset_info['drug_names']):\n",
    "                labels.append(f\"Drug: {dataset_info['drug_names'][drug_idx][:15]}\")\n",
    "            else:\n",
    "                labels.append(f\"Node: {node_idx}\")\n",
    "        values.append(node_importance[node_idx])\n",
    "    \n",
    "    plt.barh(range(len(labels)), values)\n",
    "    plt.yticks(range(len(labels)), labels, fontsize=8)\n",
    "    plt.title(f'Top {top_k} Important Nodes')\n",
    "    plt.xlabel('Importance Score')\n",
    "    \n",
    "    # Plot 3: Distribution of node importance\n",
    "    plt.subplot(2, 2, 3)\n",
    "    plt.hist(node_importance, bins=50, alpha=0.7, edgecolor='black')\n",
    "    plt.title('Distribution of Node Importance')\n",
    "    plt.xlabel('Importance Score')\n",
    "    plt.ylabel('Frequency')\n",
    "    \n",
    "    # Plot 4: Gene vs Drug importance\n",
    "    plt.subplot(2, 2, 4)\n",
    "    gene_importance = node_importance[:dataset_info['num_gene']]\n",
    "    drug_start_idx = dataset_info['num_gene']\n",
    "    drug_end_idx = min(dataset_info['num_gene'] + dataset_info['num_drug'], len(node_importance))\n",
    "    drug_importance = node_importance[drug_start_idx:drug_end_idx]\n",
    "    \n",
    "    if len(drug_importance) > 0:\n",
    "        plt.boxplot([gene_importance, drug_importance], labels=['Genes', 'Drugs'])\n",
    "        plt.title('Gene vs Drug Importance')\n",
    "        plt.ylabel('Importance Score')\n",
    "    else:\n",
    "        plt.text(0.5, 0.5, 'Drug importance not available', ha='center', va='center', transform=plt.gca().transAxes)\n",
    "        plt.title('Gene vs Drug Importance')\n",
    "    \n",
    "    plt.tight_layout()\n",
    "    plt.savefig(f'./explanations/node_importance_sample_{sample_idx}.png', dpi=300, bbox_inches='tight')\n",
    "    plt.show()\n",
    "    \n",
    "    # Print summary statistics\n",
    "    print(f\"\\nNode Importance Summary:\")\n",
    "    print(f\"Total nodes: {len(node_importance)}\")\n",
    "    print(f\"Mean importance: {node_importance.mean():.4f}\")\n",
    "    print(f\"Std importance: {node_importance.std():.4f}\")\n",
    "    print(f\"Max importance: {node_importance.max():.4f}\")\n",
    "    print(f\"Min importance: {node_importance.min():.4f}\")\n",
    "    \n",
    "    # Print top genes and drugs\n",
    "    print(f\"\\nTop {top_k} Important Features:\")\n",
    "    for i, node_idx in enumerate(top_nodes):\n",
    "        if node_idx < len(dataset_info['gene_names']):\n",
    "            print(f\"{i+1}. Gene {dataset_info['gene_names'][node_idx]}: {node_importance[node_idx]:.4f}\")\n",
    "        else:\n",
    "            drug_idx = node_idx - len(dataset_info['gene_names'])\n",
    "            if drug_idx < len(dataset_info['drug_names']):\n",
    "                print(f\"{i+1}. Drug {dataset_info['drug_names'][drug_idx]}: {node_importance[node_idx]:.4f}\")\n",
    "            else:\n",
    "                print(f\"{i+1}. Node {node_idx}: {node_importance[node_idx]:.4f}\")"
   ]
  },
  {
   "cell_type": "markdown",
   "id": "e7560b7e",
   "metadata": {},
   "source": [
    "... and finally visualize them."
   ]
  },
  {
   "cell_type": "code",
   "execution_count": 62,
   "id": "151d231f",
   "metadata": {},
   "outputs": [
    {
     "name": "stdout",
     "output_type": "stream",
     "text": [
      "Node mask shape: torch.Size([2034, 4])\n",
      "Data x shape: torch.Size([2034, 4])\n",
      "Node importance shape: (2034,)\n"
     ]
    },
    {
     "data": {
      "image/png": "[encoded data removed]",
      "text/plain": [
       "<Figure size 1500x1000 with 4 Axes>"
      ]
     },
     "metadata": {},
     "output_type": "display_data"
    },
    {
     "name": "stdout",
     "output_type": "stream",
     "text": [
      "\n",
      "Node Importance Summary:\n",
      "Total nodes: 2034\n",
      "Mean importance: 0.0533\n",
      "Std importance: 0.0960\n",
      "Max importance: 0.3392\n",
      "Min importance: 0.0000\n",
      "\n",
      "Top 15 Important Features:\n",
      "1. Gene MTOR: 0.3392\n",
      "2. Gene PRKCI: 0.3304\n",
      "3. Gene PLD1: 0.3240\n",
      "4. Gene BIRC3: 0.3202\n",
      "5. Gene SREBF1: 0.3202\n",
      "6. Gene PTK2: 0.3201\n",
      "7. Gene PPP1CC: 0.3185\n",
      "8. Gene MRAS: 0.3169\n",
      "9. Gene LAMTOR1: 0.3152\n",
      "10. Gene LAMTOR4: 0.3148\n",
      "11. Gene PREX1: 0.3139\n",
      "12. Gene RELA: 0.3114\n",
      "13. Gene RIPK2: 0.3113\n",
      "14. Gene ELAVL1: 0.3112\n",
      "15. Gene MALT1: 0.3108\n"
     ]
    }
   ],
   "source": [
    "visualize_node_importance(explanation, data, dataset_info, sample_idx, top_k=15)"
   ]
  },
  {
   "cell_type": "markdown",
   "id": "2bc144d1",
   "metadata": {},
   "source": [
    "These plots represent the following:\n",
    "1. All node importance scores: shows importance scores for all 2027 nodes (2016 genes + 11 drugs) in the graph.Most nodes have low importance (~0.0-0.1), with only a few important features.\n",
    "2. Top 15 important nodes: RAF1 is the most important gene (highest bar ~0.4 importance) and FGFRL1 is second most important (~0.35 importance). Those are all genes.\n",
    "3. Distribution of node importance: ~1300 nodes have near-zero importance.\n",
    "4. Gene vs Drug importance: Genes box plot shows wide range of importance (0.0 to ~0.4), with many outliers. Drugs have minimal impact which makes sence. "
   ]
  },
  {
   "cell_type": "code",
   "execution_count": 63,
   "id": "d58ff075",
   "metadata": {},
   "outputs": [],
   "source": [
    "def visualize_edge_importance(explanation, sample_idx=0):\n",
    "    \"\"\"\n",
    "    Create visualizations showing which edges (connections) are most important for the prediction.\n",
    "    \n",
    "    This function creates 2 subplots:\n",
    "    1. Histogram showing distribution of edge importance scores  \n",
    "    2. Bar chart of the top 20 most important edges\n",
    "    \n",
    "    Args:\n",
    "        explanation: Explanation object from generate_explanation()\n",
    "        sample_idx: Sample index for file naming\n",
    "    \"\"\"\n",
    "    if explanation is None or not hasattr(explanation, 'edge_mask') or explanation.edge_mask is None:\n",
    "        print(\"No edge importance data to visualize\")\n",
    "        return\n",
    "    \n",
    "    edge_importance = explanation.edge_mask.cpu().numpy()\n",
    "    \n",
    "    plt.figure(figsize=(12, 4))\n",
    "    \n",
    "    plt.subplot(1, 2, 1)\n",
    "    plt.hist(edge_importance, bins=50, alpha=0.7, edgecolor='black')\n",
    "    plt.title('Distribution of Edge Importance Scores')\n",
    "    plt.xlabel('Importance Score')\n",
    "    plt.ylabel('Frequency')\n",
    "    \n",
    "    plt.subplot(1, 2, 2)\n",
    "    top_edges = np.argsort(edge_importance)[-20:][::-1]  # Top 20 edges\n",
    "    plt.bar(range(len(top_edges)), edge_importance[top_edges])\n",
    "    plt.title('Top 20 Important Edges')\n",
    "    plt.xlabel('Edge Rank')\n",
    "    plt.ylabel('Importance Score')\n",
    "    \n",
    "    plt.tight_layout()\n",
    "    plt.savefig(f'./explanations/edge_importance_sample_{sample_idx}.png', dpi=300, bbox_inches='tight')\n",
    "    plt.show()\n",
    "    \n",
    "    print(f\"\\nEdge Importance Summary:\")\n",
    "    print(f\"Total edges: {len(edge_importance)}\")\n",
    "    print(f\"Mean importance: {edge_importance.mean():.4f}\")\n",
    "    print(f\"Std importance: {edge_importance.std():.4f}\")\n",
    "    print(f\"Max importance: {edge_importance.max():.4f}\")\n",
    "    print(f\"Min importance: {edge_importance.min():.4f}\")"
   ]
  },
  {
   "cell_type": "code",
   "execution_count": 64,
   "id": "3d27e310",
   "metadata": {},
   "outputs": [
    {
     "data": {
      "image/png": "[encoded data removed]",
      "text/plain": [
       "<Figure size 1200x400 with 2 Axes>"
      ]
     },
     "metadata": {},
     "output_type": "display_data"
    },
    {
     "name": "stdout",
     "output_type": "stream",
     "text": [
      "\n",
      "Edge Importance Summary:\n",
      "Total edges: 18610\n",
      "Mean importance: 0.0979\n",
      "Std importance: 0.2012\n",
      "Max importance: 0.6450\n",
      "Min importance: 0.0000\n"
     ]
    }
   ],
   "source": [
    "visualize_edge_importance(explanation, sample_idx)"
   ]
  },
  {
   "cell_type": "markdown",
   "id": "b31b2cf5",
   "metadata": {},
   "source": [
    "1. Distribution of Edge Importance Scores shows importance scores for all 18,604 edges in the network. Edges are either very unimportant or very important - few in between.\n",
    "2. Top 20 Important Edges have nearly identical importance scores (~0.6). Multiple pathways are equally important for the prediction."
   ]
  },
  {
   "cell_type": "code",
   "execution_count": 65,
   "id": "6b355152",
   "metadata": {},
   "outputs": [],
   "source": [
    "def show_prediction_info(model, data, sample_idx=0):\n",
    "    \"\"\"\n",
    "    Display prediction accuracy information for the explained sample.\n",
    "    \n",
    "    This function shows:\n",
    "    - True synergy score from the dataset\n",
    "    - Model's predicted synergy score\n",
    "    - Prediction error (absolute difference)\n",
    "    \n",
    "    Args:\n",
    "        model: Trained model\n",
    "        data: Sample data\n",
    "        sample_idx: Sample index for display\n",
    "    \"\"\"\n",
    "    print(f\"\\nSample {sample_idx} Prediction Information:\")\n",
    "    \n",
    "    # Get true value\n",
    "    if hasattr(data, 'label'):\n",
    "        true_val = data.label.item()\n",
    "    else:\n",
    "        true_val = data.y.item()\n",
    "    \n",
    "    print(f\"True synergy score: {true_val:.4f}\")\n",
    "    \n",
    "    # Get model prediction\n",
    "    with torch.no_grad():\n",
    "        pred = model(data.x, data.edge_index, data.drug_index)\n",
    "        print(f\"Predicted synergy score: {pred.item():.4f}\")\n",
    "        print(f\"Prediction error: {abs(pred.item() - true_val):.4f}\")\n",
    "        \n",
    "        # Interpretation of synergy scores\n",
    "        if true_val > 0:\n",
    "            print(\"True label: SYNERGISTIC drug combination\")\n",
    "        else:\n",
    "            print(\"True label: NON-SYNERGISTIC drug combination\")\n",
    "            \n",
    "        if pred.item() > 0:\n",
    "            print(\"Prediction: SYNERGISTIC drug combination\")\n",
    "        else:\n",
    "            print(\"Prediction: NON-SYNERGISTIC drug combination\")"
   ]
  },
  {
   "cell_type": "code",
   "execution_count": 66,
   "id": "a1fceebe",
   "metadata": {},
   "outputs": [
    {
     "name": "stdout",
     "output_type": "stream",
     "text": [
      "\n",
      "Sample 0 Prediction Information:\n",
      "True synergy score: 3.8889\n",
      "Predicted synergy score: 13.4897\n",
      "Prediction error: 9.6008\n",
      "True label: SYNERGISTIC drug combination\n",
      "Prediction: SYNERGISTIC drug combination\n"
     ]
    }
   ],
   "source": [
    "show_prediction_info(model, data, sample_idx)"
   ]
  },
  {
   "cell_type": "markdown",
   "id": "2e3fdfef",
   "metadata": {},
   "source": [
    "As a result, we can suggest that the model heavily weighted RAF1 expression and FGFRL1. But this has led to a wrong prediction."
   ]
  }
 ],
 "metadata": {
  "kernelspec": {
   "display_name": "Python 3",
   "language": "python",
   "name": "python3"
  },
  "language_info": {
   "codemirror_mode": {
    "name": "ipython",
    "version": 3
   },
   "file_extension": ".py",
   "mimetype": "text/x-python",
   "name": "python",
   "nbconvert_exporter": "python",
   "pygments_lexer": "ipython3",
   "version": "3.11.9"
  }
 },
 "nbformat": 4,
 "nbformat_minor": 5
}
